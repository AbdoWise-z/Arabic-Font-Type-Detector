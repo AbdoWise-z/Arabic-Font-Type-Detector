{
 "cells": [
  {
   "cell_type": "code",
   "execution_count": 3,
   "metadata": {},
   "outputs": [],
   "source": [
    "#imports and hyperparameters\n",
    "\n",
    "import cv2\n",
    "from sklearn.cluster import KMeans\n",
    "from sklearn.ensemble import AdaBoostClassifier\n",
    "from sklearn.svm import SVC  # Example weak learner\n",
    "from sklearn.model_selection import train_test_split\n",
    "import os\n",
    "import numpy as np\n",
    "from xgboost import XGBClassifier\n",
    "from cv2.xfeatures2d import SIFT_create as sift_create\n",
    "import pickle\n",
    "\n",
    "# Define paths and hyperparameters\n",
    "data_path            = \"fonts-dataset\"\n",
    "kmeans_sets          = 360  # Number of visual words (adjust as needed)\n",
    "number_of_estimators = 50"
   ]
  },
  {
   "cell_type": "code",
   "execution_count": 7,
   "metadata": {},
   "outputs": [
    {
     "name": "stdout",
     "output_type": "stream",
     "text": [
      "Loaded: 4000 images\n",
      "Train Size: 2800\n",
      "Test Size : 1200\n"
     ]
    }
   ],
   "source": [
    "# Load image paths and labels\n",
    "images = []\n",
    "labels = []\n",
    "for folder_name in os.listdir(data_path):\n",
    "  folder_path = os.path.join(data_path, folder_name)\n",
    "  for filename in os.listdir(folder_path):\n",
    "    image_path = os.path.join(folder_path, filename)\n",
    "    label = folder_name  # Assuming folder name represents class label\n",
    "    images.append(image_path)\n",
    "    labels.append(label)\n",
    "\n",
    "print(f\"Loaded: {len(images)} images\")\n",
    "\n",
    "images_train, images_test, labels_train, labels_test = train_test_split(images, labels, test_size=0.3, random_state=42)\n",
    "\n",
    "print(f\"Train Size: {len(images_train)}\")\n",
    "print(f\"Test Size : {len(images_test)}\")\n"
   ]
  },
  {
   "cell_type": "code",
   "execution_count": null,
   "metadata": {},
   "outputs": [],
   "source": [
    "\n",
    "def image_preprocess(img):\n",
    "  cv2.cvtColor(img, cv2.COLOR_BGR2GRAY)\n",
    "\n",
    "\n",
    "def extract_surf_features(image_path):\n",
    "  img = cv2.imread(image_path)\n",
    "  processed_image = image_preprocess(img)\n",
    "  surf = sift_create()\n",
    "  keypoints, descriptors = surf.detectAndCompute(processed_image, None)\n",
    "  return keypoints, descriptors"
   ]
  }
 ],
 "metadata": {
  "kernelspec": {
   "display_name": "Python 3",
   "language": "python",
   "name": "python3"
  },
  "language_info": {
   "codemirror_mode": {
    "name": "ipython",
    "version": 3
   },
   "file_extension": ".py",
   "mimetype": "text/x-python",
   "name": "python",
   "nbconvert_exporter": "python",
   "pygments_lexer": "ipython3",
   "version": "3.11.9"
  }
 },
 "nbformat": 4,
 "nbformat_minor": 2
}
